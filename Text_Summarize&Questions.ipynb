{
 "cells": [
  {
   "cell_type": "code",
   "execution_count": 120,
   "id": "63f67f1a",
   "metadata": {},
   "outputs": [
    {
     "name": "stderr",
     "output_type": "stream",
     "text": [
      "[nltk_data] Downloading package stopwords to\n",
      "[nltk_data]     C:\\Users\\LENOVO\\AppData\\Roaming\\nltk_data...\n",
      "[nltk_data]   Package stopwords is already up-to-date!\n"
     ]
    }
   ],
   "source": [
    "import numpy as np \n",
    "import pandas as pd \n",
    "import seaborn as sns \n",
    "import nltk\n",
    "import re\n",
    "import string\n",
    "from nltk.corpus import stopwords\n",
    "import warnings\n",
    "warnings.filterwarnings('ignore')\n",
    "nltk.download('stopwords')\n",
    "from datasets import Dataset\n",
    "from transformers import Seq2SeqTrainer, Seq2SeqTrainingArguments\n",
    "from transformers import BartTokenizer, BartForConditionalGeneration, Seq2SeqTrainingArguments, Seq2SeqTrainer, DataCollatorForSeq2Seq\n",
    "from transformers import T5Tokenizer, T5ForConditionalGeneration\n",
    "from tqdm import tqdm\n",
    "from transformers import T5ForConditionalGeneration, T5Tokenizer\n",
    "import torch\n",
    "tqdm.pandas()\n",
    "from transformers import pipeline\n",
    "from rouge_score import rouge_scorer\n",
    "from bert_score import score\n"
   ]
  },
  {
   "cell_type": "code",
   "execution_count": 2,
   "id": "d7229454",
   "metadata": {},
   "outputs": [],
   "source": [
    "train_data = pd.read_csv(r\"D:\\INSTANT(Course)\\Training Month\\Sprint3\\Text Summarization & Question Answering\\cnn_dailymail\\train.csv\")\n",
    "val_data = pd.read_csv(r\"D:\\INSTANT(Course)\\Training Month\\Sprint3\\Text Summarization & Question Answering\\cnn_dailymail\\validation.csv\")\n",
    "test_data = pd.read_csv(r\"D:\\INSTANT(Course)\\Training Month\\Sprint3\\Text Summarization & Question Answering\\cnn_dailymail\\test.csv\")"
   ]
  },
  {
   "cell_type": "markdown",
   "id": "93c18e74",
   "metadata": {},
   "source": [
    "# Data Samples"
   ]
  },
  {
   "cell_type": "code",
   "execution_count": 4,
   "id": "b885b2e2",
   "metadata": {},
   "outputs": [
    {
     "data": {
      "text/html": [
       "<div>\n",
       "<style scoped>\n",
       "    .dataframe tbody tr th:only-of-type {\n",
       "        vertical-align: middle;\n",
       "    }\n",
       "\n",
       "    .dataframe tbody tr th {\n",
       "        vertical-align: top;\n",
       "    }\n",
       "\n",
       "    .dataframe thead th {\n",
       "        text-align: right;\n",
       "    }\n",
       "</style>\n",
       "<table border=\"1\" class=\"dataframe\">\n",
       "  <thead>\n",
       "    <tr style=\"text-align: right;\">\n",
       "      <th></th>\n",
       "      <th>id</th>\n",
       "      <th>article</th>\n",
       "      <th>highlights</th>\n",
       "    </tr>\n",
       "  </thead>\n",
       "  <tbody>\n",
       "    <tr>\n",
       "      <th>54977</th>\n",
       "      <td>9bc336cff2588ac101b04cab5d90f612f3c43ea8</td>\n",
       "      <td>Jermain Defoe is a step closer to securing his...</td>\n",
       "      <td>Ex-Tottenham Hotspur striker training with his...</td>\n",
       "    </tr>\n",
       "    <tr>\n",
       "      <th>279143</th>\n",
       "      <td>f5a9c5d620a19d5bbca1a752b6df3891b539e37d</td>\n",
       "      <td>By . Daily Mail Reporter . PUBLISHED: . 15:37 ...</td>\n",
       "      <td>Beat the previous warmest month on record of J...</td>\n",
       "    </tr>\n",
       "    <tr>\n",
       "      <th>190260</th>\n",
       "      <td>825757e6396e399f7efad0ed5c1489f9a83d85a9</td>\n",
       "      <td>A former high school tutor in Michigan accused...</td>\n",
       "      <td>Abigail Simon, 35, is charged with first-degre...</td>\n",
       "    </tr>\n",
       "    <tr>\n",
       "      <th>213457</th>\n",
       "      <td>a06f8491cad7090b71725b22f18cec2840551cde</td>\n",
       "      <td>(CNN) -- Authorities in Arizona said Tuesday t...</td>\n",
       "      <td>Authorities seize $7.8 in cash and make more t...</td>\n",
       "    </tr>\n",
       "    <tr>\n",
       "      <th>286776</th>\n",
       "      <td>ff8f80168a504fba291195c0b2fe53ceffa46a2d</td>\n",
       "      <td>BLOEMFONTEIN, South Africa (CNN)  -- Three hou...</td>\n",
       "      <td>In South Africa, rugby union was once symbolic...</td>\n",
       "    </tr>\n",
       "    <tr>\n",
       "      <th>26522</th>\n",
       "      <td>4b4c8180fb53dc3027b2ac31ae808b4f4c654249</td>\n",
       "      <td>A 13-year-old boy has been charged with the mu...</td>\n",
       "      <td>Jack Barry, 53, attacked in front of Sabrina F...</td>\n",
       "    </tr>\n",
       "    <tr>\n",
       "      <th>61590</th>\n",
       "      <td>aefbdd9fe70d31fa0460c15a868b1057d0fa3853</td>\n",
       "      <td>(CNN) -- Four weeks after inconclusive electio...</td>\n",
       "      <td>New try to form government .\\nCan rivals get a...</td>\n",
       "    </tr>\n",
       "  </tbody>\n",
       "</table>\n",
       "</div>"
      ],
      "text/plain": [
       "                                              id  \\\n",
       "54977   9bc336cff2588ac101b04cab5d90f612f3c43ea8   \n",
       "279143  f5a9c5d620a19d5bbca1a752b6df3891b539e37d   \n",
       "190260  825757e6396e399f7efad0ed5c1489f9a83d85a9   \n",
       "213457  a06f8491cad7090b71725b22f18cec2840551cde   \n",
       "286776  ff8f80168a504fba291195c0b2fe53ceffa46a2d   \n",
       "26522   4b4c8180fb53dc3027b2ac31ae808b4f4c654249   \n",
       "61590   aefbdd9fe70d31fa0460c15a868b1057d0fa3853   \n",
       "\n",
       "                                                  article  \\\n",
       "54977   Jermain Defoe is a step closer to securing his...   \n",
       "279143  By . Daily Mail Reporter . PUBLISHED: . 15:37 ...   \n",
       "190260  A former high school tutor in Michigan accused...   \n",
       "213457  (CNN) -- Authorities in Arizona said Tuesday t...   \n",
       "286776  BLOEMFONTEIN, South Africa (CNN)  -- Three hou...   \n",
       "26522   A 13-year-old boy has been charged with the mu...   \n",
       "61590   (CNN) -- Four weeks after inconclusive electio...   \n",
       "\n",
       "                                               highlights  \n",
       "54977   Ex-Tottenham Hotspur striker training with his...  \n",
       "279143  Beat the previous warmest month on record of J...  \n",
       "190260  Abigail Simon, 35, is charged with first-degre...  \n",
       "213457  Authorities seize $7.8 in cash and make more t...  \n",
       "286776  In South Africa, rugby union was once symbolic...  \n",
       "26522   Jack Barry, 53, attacked in front of Sabrina F...  \n",
       "61590   New try to form government .\\nCan rivals get a...  "
      ]
     },
     "execution_count": 4,
     "metadata": {},
     "output_type": "execute_result"
    }
   ],
   "source": [
    "train_data.sample(7)"
   ]
  },
  {
   "cell_type": "code",
   "execution_count": 5,
   "id": "e16b0b0f",
   "metadata": {},
   "outputs": [
    {
     "data": {
      "text/html": [
       "<div>\n",
       "<style scoped>\n",
       "    .dataframe tbody tr th:only-of-type {\n",
       "        vertical-align: middle;\n",
       "    }\n",
       "\n",
       "    .dataframe tbody tr th {\n",
       "        vertical-align: top;\n",
       "    }\n",
       "\n",
       "    .dataframe thead th {\n",
       "        text-align: right;\n",
       "    }\n",
       "</style>\n",
       "<table border=\"1\" class=\"dataframe\">\n",
       "  <thead>\n",
       "    <tr style=\"text-align: right;\">\n",
       "      <th></th>\n",
       "      <th>id</th>\n",
       "      <th>article</th>\n",
       "      <th>highlights</th>\n",
       "    </tr>\n",
       "  </thead>\n",
       "  <tbody>\n",
       "    <tr>\n",
       "      <th>7754</th>\n",
       "      <td>7d4a9d69ffb1d67c4399a59a75755cf3bb3f2912</td>\n",
       "      <td>It's one of the most common schemes tourists e...</td>\n",
       "      <td>In heavy-traffic areas, like along the river S...</td>\n",
       "    </tr>\n",
       "    <tr>\n",
       "      <th>7160</th>\n",
       "      <td>bcd04e9f334c4f13187cb5fa4aa52f3955a48894</td>\n",
       "      <td>The orthodontic braces that have plagued teens...</td>\n",
       "      <td>CR Fashion Book's Editor-in-Chief Carine Roitf...</td>\n",
       "    </tr>\n",
       "    <tr>\n",
       "      <th>2927</th>\n",
       "      <td>28aad2484a8ee18703fbc67d8c37772838cea7f5</td>\n",
       "      <td>A little boy born with a rare brain disease th...</td>\n",
       "      <td>Tate Burley was born with Miller Dieker Lissen...</td>\n",
       "    </tr>\n",
       "    <tr>\n",
       "      <th>13035</th>\n",
       "      <td>21df8954ad1190865f5a1d1c41e397502ed0296e</td>\n",
       "      <td>While Tony Abbott is in New Zealand spruiking ...</td>\n",
       "      <td>Tony Abbott has been questioned in New Zealand...</td>\n",
       "    </tr>\n",
       "    <tr>\n",
       "      <th>10531</th>\n",
       "      <td>27487bdc43446adaa2b5e4ca5f4d19c139834cb4</td>\n",
       "      <td>Prince Charles might not be known for his love...</td>\n",
       "      <td>Charles showed off his bowling skills during a...</td>\n",
       "    </tr>\n",
       "    <tr>\n",
       "      <th>13131</th>\n",
       "      <td>08c9918e09970411a09458435d130e1e99b0cc81</td>\n",
       "      <td>The average intelligence of the human race has...</td>\n",
       "      <td>Researchers at Kings College London looked at ...</td>\n",
       "    </tr>\n",
       "    <tr>\n",
       "      <th>2243</th>\n",
       "      <td>66af1b070749683fb7a18ddc76e1fbb1439882db</td>\n",
       "      <td>(CNN)A U.S. Air Force veteran who allegedly tr...</td>\n",
       "      <td>Tairod Nathan Webster Pugh enters not guilty p...</td>\n",
       "    </tr>\n",
       "  </tbody>\n",
       "</table>\n",
       "</div>"
      ],
      "text/plain": [
       "                                             id  \\\n",
       "7754   7d4a9d69ffb1d67c4399a59a75755cf3bb3f2912   \n",
       "7160   bcd04e9f334c4f13187cb5fa4aa52f3955a48894   \n",
       "2927   28aad2484a8ee18703fbc67d8c37772838cea7f5   \n",
       "13035  21df8954ad1190865f5a1d1c41e397502ed0296e   \n",
       "10531  27487bdc43446adaa2b5e4ca5f4d19c139834cb4   \n",
       "13131  08c9918e09970411a09458435d130e1e99b0cc81   \n",
       "2243   66af1b070749683fb7a18ddc76e1fbb1439882db   \n",
       "\n",
       "                                                 article  \\\n",
       "7754   It's one of the most common schemes tourists e...   \n",
       "7160   The orthodontic braces that have plagued teens...   \n",
       "2927   A little boy born with a rare brain disease th...   \n",
       "13035  While Tony Abbott is in New Zealand spruiking ...   \n",
       "10531  Prince Charles might not be known for his love...   \n",
       "13131  The average intelligence of the human race has...   \n",
       "2243   (CNN)A U.S. Air Force veteran who allegedly tr...   \n",
       "\n",
       "                                              highlights  \n",
       "7754   In heavy-traffic areas, like along the river S...  \n",
       "7160   CR Fashion Book's Editor-in-Chief Carine Roitf...  \n",
       "2927   Tate Burley was born with Miller Dieker Lissen...  \n",
       "13035  Tony Abbott has been questioned in New Zealand...  \n",
       "10531  Charles showed off his bowling skills during a...  \n",
       "13131  Researchers at Kings College London looked at ...  \n",
       "2243   Tairod Nathan Webster Pugh enters not guilty p...  "
      ]
     },
     "execution_count": 5,
     "metadata": {},
     "output_type": "execute_result"
    }
   ],
   "source": [
    "val_data.sample(7)"
   ]
  },
  {
   "cell_type": "code",
   "execution_count": 6,
   "id": "dafb392b",
   "metadata": {},
   "outputs": [
    {
     "data": {
      "text/html": [
       "<div>\n",
       "<style scoped>\n",
       "    .dataframe tbody tr th:only-of-type {\n",
       "        vertical-align: middle;\n",
       "    }\n",
       "\n",
       "    .dataframe tbody tr th {\n",
       "        vertical-align: top;\n",
       "    }\n",
       "\n",
       "    .dataframe thead th {\n",
       "        text-align: right;\n",
       "    }\n",
       "</style>\n",
       "<table border=\"1\" class=\"dataframe\">\n",
       "  <thead>\n",
       "    <tr style=\"text-align: right;\">\n",
       "      <th></th>\n",
       "      <th>id</th>\n",
       "      <th>article</th>\n",
       "      <th>highlights</th>\n",
       "    </tr>\n",
       "  </thead>\n",
       "  <tbody>\n",
       "    <tr>\n",
       "      <th>6563</th>\n",
       "      <td>5d0610071b45e36fec18def6fbe245b2d759e85e</td>\n",
       "      <td>England lock Joe Launchbury is hopeful of maki...</td>\n",
       "      <td>Joe Launchbury has been out of action for Wasp...</td>\n",
       "    </tr>\n",
       "    <tr>\n",
       "      <th>4960</th>\n",
       "      <td>a382fc98c0652dea0c2275a4110b744476b30ea3</td>\n",
       "      <td>(CNN)It's not easy being the Pope. Not only do...</td>\n",
       "      <td>Previous popes had finessed the question of wh...</td>\n",
       "    </tr>\n",
       "    <tr>\n",
       "      <th>1584</th>\n",
       "      <td>18d7f34d8a30155fee0118d07ad3caefdc081d80</td>\n",
       "      <td>Heroin dealer Patrick Revins was identified by...</td>\n",
       "      <td>Patrick Revins was caught selling heroin to an...</td>\n",
       "    </tr>\n",
       "    <tr>\n",
       "      <th>3346</th>\n",
       "      <td>98c1d47601c342717bb95e02c864942de070a028</td>\n",
       "      <td>The man accused of killing a gay community col...</td>\n",
       "      <td>Kenneth Morgan Stancil III, whose face and nec...</td>\n",
       "    </tr>\n",
       "    <tr>\n",
       "      <th>9067</th>\n",
       "      <td>f4bbc180cbb538c2a74302f216263c2c17201d64</td>\n",
       "      <td>Sao Paulo, Brazil (CNN)Throngs of protesters p...</td>\n",
       "      <td>Police say 275,000 demonstrators marched in Sa...</td>\n",
       "    </tr>\n",
       "    <tr>\n",
       "      <th>6884</th>\n",
       "      <td>a5f4111c8859dca0b6910378b7f32eb6a2c63ff4</td>\n",
       "      <td>Brentford are considering appointing Gianfranc...</td>\n",
       "      <td>Mark Warburton set to leave at the end of the ...</td>\n",
       "    </tr>\n",
       "    <tr>\n",
       "      <th>6468</th>\n",
       "      <td>343fd1b96e84f239243a9ae5af922ffc5be90ab2</td>\n",
       "      <td>Barcelona striker Luis Suarez has admitted he ...</td>\n",
       "      <td>Barcelona beat PSG 3-1 in their Champions Leag...</td>\n",
       "    </tr>\n",
       "  </tbody>\n",
       "</table>\n",
       "</div>"
      ],
      "text/plain": [
       "                                            id  \\\n",
       "6563  5d0610071b45e36fec18def6fbe245b2d759e85e   \n",
       "4960  a382fc98c0652dea0c2275a4110b744476b30ea3   \n",
       "1584  18d7f34d8a30155fee0118d07ad3caefdc081d80   \n",
       "3346  98c1d47601c342717bb95e02c864942de070a028   \n",
       "9067  f4bbc180cbb538c2a74302f216263c2c17201d64   \n",
       "6884  a5f4111c8859dca0b6910378b7f32eb6a2c63ff4   \n",
       "6468  343fd1b96e84f239243a9ae5af922ffc5be90ab2   \n",
       "\n",
       "                                                article  \\\n",
       "6563  England lock Joe Launchbury is hopeful of maki...   \n",
       "4960  (CNN)It's not easy being the Pope. Not only do...   \n",
       "1584  Heroin dealer Patrick Revins was identified by...   \n",
       "3346  The man accused of killing a gay community col...   \n",
       "9067  Sao Paulo, Brazil (CNN)Throngs of protesters p...   \n",
       "6884  Brentford are considering appointing Gianfranc...   \n",
       "6468  Barcelona striker Luis Suarez has admitted he ...   \n",
       "\n",
       "                                             highlights  \n",
       "6563  Joe Launchbury has been out of action for Wasp...  \n",
       "4960  Previous popes had finessed the question of wh...  \n",
       "1584  Patrick Revins was caught selling heroin to an...  \n",
       "3346  Kenneth Morgan Stancil III, whose face and nec...  \n",
       "9067  Police say 275,000 demonstrators marched in Sa...  \n",
       "6884  Mark Warburton set to leave at the end of the ...  \n",
       "6468  Barcelona beat PSG 3-1 in their Champions Leag...  "
      ]
     },
     "execution_count": 6,
     "metadata": {},
     "output_type": "execute_result"
    }
   ],
   "source": [
    "test_data.sample(7)"
   ]
  },
  {
   "cell_type": "code",
   "execution_count": 7,
   "id": "7e78009f",
   "metadata": {},
   "outputs": [
    {
     "data": {
      "text/plain": [
       "\"By . Associated Press . PUBLISHED: . 14:11 EST, 25 October 2013 . | . UPDATED: . 15:36 EST, 25 October 2013 . The bishop of the Fargo Catholic Diocese in North Dakota has exposed potentially hundreds of church members in Fargo, Grand Forks and Jamestown to the hepatitis A virus in late September and early October. The state Health Department has issued an advisory of exposure for anyone who attended five churches and took communion. Bishop John Folda (pictured) of the Fargo Catholic Diocese in North Dakota has exposed potentially hundreds of church members in Fargo, Grand Forks and Jamestown to the hepatitis A . State Immunization Program Manager Molly Howell says the risk is low, but officials feel it's important to alert people to the possible exposure. The diocese announced on Monday that Bishop John Folda is taking time off after being diagnosed with hepatitis A. The diocese says he contracted the infection through contaminated food while attending a conference for newly ordained bishops in Italy last month. Symptoms of hepatitis A include fever, tiredness, loss of appetite, nausea and abdominal discomfort. Fargo Catholic Diocese in North Dakota (pictured) is where the bishop is located .\""
      ]
     },
     "execution_count": 7,
     "metadata": {},
     "output_type": "execute_result"
    }
   ],
   "source": [
    "train_data[\"article\"][0]"
   ]
  },
  {
   "cell_type": "code",
   "execution_count": 8,
   "id": "a461ce6a",
   "metadata": {},
   "outputs": [
    {
     "data": {
      "text/plain": [
       "'Bishop John Folda, of North Dakota, is taking time off after being diagnosed .\\nHe contracted the infection through contaminated food in Italy .\\nChurch members in Fargo, Grand Forks and Jamestown could have been exposed .'"
      ]
     },
     "execution_count": 8,
     "metadata": {},
     "output_type": "execute_result"
    }
   ],
   "source": [
    "train_data[\"highlights\"][0]"
   ]
  },
  {
   "cell_type": "code",
   "execution_count": 9,
   "id": "a70925f9",
   "metadata": {},
   "outputs": [
    {
     "data": {
      "text/plain": [
       "\"Sally Forrest, an actress-dancer who graced the silver screen throughout the '40s and '50s in MGM musicals and films such as the 1956 noir While the City Sleeps died on March 15 at her home in Beverly Hills, California. Forrest, whose birth name was Katherine Feeney, was 86 and had long battled cancer. Her publicist, Judith Goffin, announced the news Thursday. Scroll down for video . Actress: Sally Forrest was in the 1951 Ida Lupino-directed film 'Hard, Fast and Beautiful' (left) and the 1956 Fritz Lang movie 'While the City Sleeps' A San Diego native, Forrest became a protege of Hollywood trailblazer Ida Lupino, who cast her in starring roles in films including the critical and commercial success Not Wanted, Never Fear and Hard, Fast and Beautiful. Some of Forrest's other film credits included Bannerline, Son of Sinbad, and Excuse My Dust, according to her iMDB\\xa0page. The page also indicates Forrest was in multiple Climax! and Rawhide television episodes. Forrest appeared as herself in an episode of The Ed Sullivan Show and three episodes of The Dinah Shore Chevy Show, her iMDB page says. She also starred in a Broadway production of The Seven Year Itch. City News Service reported that other stage credits included As You Like It, No, No, Nanette and Damn Yankees. Forrest married writer-producer Milo Frank in 1951. He died in 2004. She is survived by her niece, Sharon Durham, and nephews, Michael and Mark Feeney. Career: A San Diego native, Forrest became a protege of Hollywood trailblazer Ida Lupino, who cast her in starring roles in films .\""
      ]
     },
     "execution_count": 9,
     "metadata": {},
     "output_type": "execute_result"
    }
   ],
   "source": [
    "val_data[\"article\"][0]"
   ]
  },
  {
   "cell_type": "code",
   "execution_count": 10,
   "id": "98e4351c",
   "metadata": {},
   "outputs": [
    {
     "data": {
      "text/plain": [
       "\"Sally Forrest, an actress-dancer who graced the silver screen throughout the '40s and '50s in MGM musicals and films died on March 15 .\\nForrest, whose birth name was Katherine Feeney, had long battled cancer .\\nA San Diego native, Forrest became a protege of Hollywood trailblazer Ida Lupino, who cast her in starring roles in films .\""
      ]
     },
     "execution_count": 10,
     "metadata": {},
     "output_type": "execute_result"
    }
   ],
   "source": [
    "val_data[\"highlights\"][0]"
   ]
  },
  {
   "cell_type": "code",
   "execution_count": 11,
   "id": "d75ec130",
   "metadata": {},
   "outputs": [
    {
     "data": {
      "text/plain": [
       "\"Ever noticed how plane seats appear to be getting smaller and smaller? With increasing numbers of people taking to the skies, some experts are questioning if having such packed out planes is putting passengers at risk. They say that the shrinking space on aeroplanes is not only uncomfortable - it's putting our health and safety in danger. More than squabbling over the arm rest, shrinking space on planes putting our health and safety in danger? This week, a U.S consumer advisory group set up by the Department of Transportation said at a public hearing that while the government is happy to set standards for animals flying on planes, it doesn't stipulate a minimum amount of space for humans. 'In a world where animals have more rights to space and food than humans,' said Charlie Leocha, consumer representative on the committee.\\xa0'It is time that the DOT and FAA take a stand for humane treatment of passengers.' But could crowding on planes lead to more serious issues than fighting for space in the overhead lockers, crashing elbows and seat back kicking? Tests conducted by the FAA use planes with a 31 inch pitch, a standard which on some airlines has decreased . Many economy seats on United Airlines have 30 inches of room, while some airlines offer as little as 28 inches . Cynthia Corbertt, a human factors researcher with the Federal Aviation Administration, that it conducts tests on how quickly passengers can leave a plane. But these tests are conducted using planes with 31 inches between each row of seats, a standard which on some airlines has decreased, reported the Detroit News. The distance between two seats from one point on a seat to the same point on the seat behind it is known as the pitch. While most airlines stick to a pitch of 31 inches or above, some fall below this. While United Airlines has 30 inches of space, Gulf Air economy seats have between 29 and 32 inches, Air Asia offers 29 inches and Spirit Airlines offers just 28 inches. British Airways has a seat pitch of 31 inches, while easyJet has 29 inches, Thomson's short haul seat pitch is 28 inches, and Virgin Atlantic's is 30-31.\""
      ]
     },
     "execution_count": 11,
     "metadata": {},
     "output_type": "execute_result"
    }
   ],
   "source": [
    "test_data[\"article\"][0]"
   ]
  },
  {
   "cell_type": "code",
   "execution_count": 12,
   "id": "0303fc57",
   "metadata": {},
   "outputs": [
    {
     "data": {
      "text/plain": [
       "'Experts question if  packed out planes are putting passengers at risk .\\nU.S consumer advisory group says minimum space must be stipulated .\\nSafety tests conducted on planes with more leg room than airlines offer .'"
      ]
     },
     "execution_count": 12,
     "metadata": {},
     "output_type": "execute_result"
    }
   ],
   "source": [
    "test_data[\"highlights\"][0]"
   ]
  },
  {
   "cell_type": "code",
   "execution_count": 13,
   "id": "fa360756",
   "metadata": {},
   "outputs": [
    {
     "data": {
      "text/plain": [
       "id            0\n",
       "article       0\n",
       "highlights    0\n",
       "dtype: int64"
      ]
     },
     "execution_count": 13,
     "metadata": {},
     "output_type": "execute_result"
    }
   ],
   "source": [
    "train_data.isnull().sum()"
   ]
  },
  {
   "cell_type": "code",
   "execution_count": 14,
   "id": "ae2f34cf",
   "metadata": {},
   "outputs": [
    {
     "data": {
      "text/plain": [
       "id            0\n",
       "article       0\n",
       "highlights    0\n",
       "dtype: int64"
      ]
     },
     "execution_count": 14,
     "metadata": {},
     "output_type": "execute_result"
    }
   ],
   "source": [
    "val_data.isnull().sum()"
   ]
  },
  {
   "cell_type": "code",
   "execution_count": 15,
   "id": "641b3813",
   "metadata": {},
   "outputs": [
    {
     "data": {
      "text/plain": [
       "id            0\n",
       "article       0\n",
       "highlights    0\n",
       "dtype: int64"
      ]
     },
     "execution_count": 15,
     "metadata": {},
     "output_type": "execute_result"
    }
   ],
   "source": [
    "test_data.isnull().sum()"
   ]
  },
  {
   "cell_type": "code",
   "execution_count": 16,
   "id": "c40e8d54",
   "metadata": {},
   "outputs": [
    {
     "data": {
      "text/plain": [
       "(287113, 3)"
      ]
     },
     "execution_count": 16,
     "metadata": {},
     "output_type": "execute_result"
    }
   ],
   "source": [
    "train_data.shape"
   ]
  },
  {
   "cell_type": "code",
   "execution_count": 17,
   "id": "a509e85a",
   "metadata": {},
   "outputs": [
    {
     "data": {
      "text/plain": [
       "(13368, 3)"
      ]
     },
     "execution_count": 17,
     "metadata": {},
     "output_type": "execute_result"
    }
   ],
   "source": [
    "val_data.shape"
   ]
  },
  {
   "cell_type": "code",
   "execution_count": 18,
   "id": "a6e64f27",
   "metadata": {},
   "outputs": [
    {
     "data": {
      "text/plain": [
       "(11490, 3)"
      ]
     },
     "execution_count": 18,
     "metadata": {},
     "output_type": "execute_result"
    }
   ],
   "source": [
    "test_data.shape"
   ]
  },
  {
   "cell_type": "markdown",
   "id": "8d95251c",
   "metadata": {},
   "source": [
    "# Take Samples for training "
   ]
  },
  {
   "cell_type": "code",
   "execution_count": 19,
   "id": "a2fa9741",
   "metadata": {},
   "outputs": [],
   "source": [
    "train_data = train_data.sample(10000, random_state=42)\n",
    "val_data = val_data.sample(4000, random_state=42)\n",
    "test_data = test_data.sample(2000, random_state=42)\n"
   ]
  },
  {
   "cell_type": "code",
   "execution_count": 20,
   "id": "e2c7fe61",
   "metadata": {},
   "outputs": [
    {
     "data": {
      "text/plain": [
       "(10000, 3)"
      ]
     },
     "execution_count": 20,
     "metadata": {},
     "output_type": "execute_result"
    }
   ],
   "source": [
    "train_data.shape"
   ]
  },
  {
   "cell_type": "code",
   "execution_count": 21,
   "id": "935e2372",
   "metadata": {},
   "outputs": [
    {
     "data": {
      "text/plain": [
       "(4000, 3)"
      ]
     },
     "execution_count": 21,
     "metadata": {},
     "output_type": "execute_result"
    }
   ],
   "source": [
    "val_data.shape"
   ]
  },
  {
   "cell_type": "code",
   "execution_count": 22,
   "id": "2fc1ff95",
   "metadata": {},
   "outputs": [
    {
     "data": {
      "text/plain": [
       "(2000, 3)"
      ]
     },
     "execution_count": 22,
     "metadata": {},
     "output_type": "execute_result"
    }
   ],
   "source": [
    "test_data.shape"
   ]
  },
  {
   "cell_type": "markdown",
   "id": "a52e9b35",
   "metadata": {},
   "source": [
    "# Preprocessing"
   ]
  },
  {
   "cell_type": "code",
   "execution_count": 23,
   "id": "25832559",
   "metadata": {},
   "outputs": [],
   "source": [
    "stop_word = set(stopwords.words(\"english\"))\n",
    "negation_words = {\n",
    "    \"not\", \"no\", \"never\", \"none\", \"nobody\", \"nothing\", \"neither\", \"nowhere\",\n",
    "    \"hasn't\", \"haven't\", \"hadn't\", \"doesn't\", \"don't\", \"didn't\",\n",
    "    \"won't\", \"wouldn't\", \"can't\", \"couldn't\", \"isn't\", \"aren't\", \"wasn't\", \"weren't\",\n",
    "    \"without\", \"nor\"\n",
    "}\n",
    "\n",
    "filtered_stopwords = stop_word - negation_words\n",
    "\n",
    "punctuation = set(string.punctuation)\n",
    "\n",
    "def Preprocessing_text(text):\n",
    "\n",
    "  text =text.lower()\n",
    "\n",
    "  text = re.sub(r'<[^>]+>', '', text)\n",
    "\n",
    "  text = re.sub(r\"http\\S+\", \"\", text)\n",
    "\n",
    "  text = re.sub(r\"[^\\w\\s]\", \"\", text)\n",
    "\n",
    "  text = re.sub(r'\\s+', ' ', text).strip()\n",
    "\n",
    "  words = text.split()\n",
    "\n",
    "  filtered = [word for word in words if word not in filtered_stopwords]\n",
    "\n",
    "  return \" \".join(filtered)\n"
   ]
  },
  {
   "cell_type": "code",
   "execution_count": 24,
   "id": "62e2e5a2",
   "metadata": {},
   "outputs": [],
   "source": [
    "train_data[\"article\"] = train_data[\"article\"].apply(Preprocessing_text)\n",
    "train_data[\"highlights\"] = train_data[\"highlights\"].apply(Preprocessing_text)"
   ]
  },
  {
   "cell_type": "code",
   "execution_count": 25,
   "id": "f51a41cc",
   "metadata": {},
   "outputs": [],
   "source": [
    "val_data[\"article\"] = val_data[\"article\"].apply(Preprocessing_text)\n",
    "val_data[\"highlights\"] = val_data[\"highlights\"].apply(Preprocessing_text)"
   ]
  },
  {
   "cell_type": "code",
   "execution_count": 26,
   "id": "7c920f5b",
   "metadata": {},
   "outputs": [
    {
     "data": {
      "text/plain": [
       "'associated press published 1411 est 25 october 2013 updated 1536 est 25 october 2013 bishop fargo catholic diocese north dakota exposed potentially hundreds church members fargo grand forks jamestown hepatitis virus late september early october state health department issued advisory exposure anyone attended five churches took communion bishop john folda pictured fargo catholic diocese north dakota exposed potentially hundreds church members fargo grand forks jamestown hepatitis state immunization program manager molly howell says risk low officials feel important alert people possible exposure diocese announced monday bishop john folda taking time diagnosed hepatitis diocese says contracted infection contaminated food attending conference newly ordained bishops italy last month symptoms hepatitis include fever tiredness loss appetite nausea abdominal discomfort fargo catholic diocese north dakota pictured bishop located'"
      ]
     },
     "execution_count": 26,
     "metadata": {},
     "output_type": "execute_result"
    }
   ],
   "source": [
    "train_data[\"article\"][0]"
   ]
  },
  {
   "cell_type": "code",
   "execution_count": 27,
   "id": "a98ced85",
   "metadata": {},
   "outputs": [
    {
     "data": {
      "text/plain": [
       "'bishop john folda north dakota taking time diagnosed contracted infection contaminated food italy church members fargo grand forks jamestown could exposed'"
      ]
     },
     "execution_count": 27,
     "metadata": {},
     "output_type": "execute_result"
    }
   ],
   "source": [
    "train_data[\"highlights\"][0]"
   ]
  },
  {
   "cell_type": "code",
   "execution_count": 28,
   "id": "49b42756",
   "metadata": {},
   "outputs": [
    {
     "data": {
      "text/plain": [
       "'sally forrest actressdancer graced silver screen throughout 40s 50s mgm musicals films 1956 noir city sleeps died march 15 home beverly hills california forrest whose birth name katherine feeney 86 long battled cancer publicist judith goffin announced news thursday scroll video actress sally forrest 1951 ida lupinodirected film hard fast beautiful left 1956 fritz lang movie city sleeps san diego native forrest became protege hollywood trailblazer ida lupino cast starring roles films including critical commercial success not wanted never fear hard fast beautiful forrests film credits included bannerline son sinbad excuse dust according imdb page page also indicates forrest multiple climax rawhide television episodes forrest appeared episode ed sullivan show three episodes dinah shore chevy show imdb page says also starred broadway production seven year itch city news service reported stage credits included like no no nanette damn yankees forrest married writerproducer milo frank 1951 died 2004 survived niece sharon durham nephews michael mark feeney career san diego native forrest became protege hollywood trailblazer ida lupino cast starring roles films'"
      ]
     },
     "execution_count": 28,
     "metadata": {},
     "output_type": "execute_result"
    }
   ],
   "source": [
    "val_data[\"article\"][0]"
   ]
  },
  {
   "cell_type": "code",
   "execution_count": 29,
   "id": "043b7f23",
   "metadata": {},
   "outputs": [
    {
     "data": {
      "text/plain": [
       "'sally forrest actressdancer graced silver screen throughout 40s 50s mgm musicals films died march 15 forrest whose birth name katherine feeney long battled cancer san diego native forrest became protege hollywood trailblazer ida lupino cast starring roles films'"
      ]
     },
     "execution_count": 29,
     "metadata": {},
     "output_type": "execute_result"
    }
   ],
   "source": [
    "val_data[\"highlights\"][0]"
   ]
  },
  {
   "cell_type": "markdown",
   "id": "56e92733",
   "metadata": {},
   "source": [
    "# Load Summarization Model"
   ]
  },
  {
   "cell_type": "code",
   "execution_count": null,
   "id": "ff9770c6",
   "metadata": {},
   "outputs": [
    {
     "name": "stderr",
     "output_type": "stream",
     "text": [
      "You are using the default legacy behaviour of the <class 'transformers.models.t5.tokenization_t5.T5Tokenizer'>. This is expected, and simply means that the `legacy` (previous) behavior will be used so nothing changes for you. If you want to use the new behaviour, set `legacy=False`. This should only be set if you understand what it means, and thoroughly read the reason why this was added as explained in https://github.com/huggingface/transformers/pull/24565\n"
     ]
    }
   ],
   "source": [
    "model_name = \"t5-small\"\n",
    "\n",
    "tokenizer = T5Tokenizer.from_pretrained(model_name)\n",
    "model = T5ForConditionalGeneration.from_pretrained(model_name)\n"
   ]
  },
  {
   "cell_type": "markdown",
   "id": "391a8d62",
   "metadata": {},
   "source": [
    "# Identify Max length "
   ]
  },
  {
   "cell_type": "code",
   "execution_count": 31,
   "id": "7bf599ad",
   "metadata": {},
   "outputs": [
    {
     "name": "stderr",
     "output_type": "stream",
     "text": [
      "Token indices sequence length is longer than the specified maximum sequence length for this model (541 > 512). Running this sequence through the model will result in indexing errors\n"
     ]
    },
    {
     "name": "stdout",
     "output_type": "stream",
     "text": [
      "Train max: 2167\n",
      "Val max: 2088\n"
     ]
    }
   ],
   "source": [
    "train_data[\"input_len\"] = train_data[\"article\"].apply(lambda x: len(tokenizer.encode(x, truncation=False)))\n",
    "val_data[\"input_len\"] = val_data[\"article\"].apply(lambda x: len(tokenizer.encode(x, truncation=False)))\n",
    "\n",
    "print(\"Train max:\", train_data[\"input_len\"].max())\n",
    "print(\"Val max:\", val_data[\"input_len\"].max())"
   ]
  },
  {
   "cell_type": "code",
   "execution_count": 32,
   "id": "039f7a8c",
   "metadata": {},
   "outputs": [
    {
     "name": "stdout",
     "output_type": "stream",
     "text": [
      "1215.0\n",
      "88.0\n"
     ]
    }
   ],
   "source": [
    "max_input_len = train_data[\"input_len\"].quantile(0.95)\n",
    "max_target_len = train_data[\"highlights\"].apply(lambda x: len(tokenizer.encode(x, truncation=False))).quantile(0.95)\n",
    "print(max_input_len)\n",
    "print(max_target_len)"
   ]
  },
  {
   "cell_type": "code",
   "execution_count": 33,
   "id": "2c544f53",
   "metadata": {},
   "outputs": [
    {
     "data": {
      "image/png": "[encoded data removed]",
      "text/plain": [
       "<Figure size 1400x600 with 2 Axes>"
      ]
     },
     "metadata": {},
     "output_type": "display_data"
    }
   ],
   "source": [
    "import matplotlib.pyplot as plt\n",
    "\n",
    "article_lengths = train_data[\"article\"].apply(lambda x: len(tokenizer.encode(x, truncation=False)))\n",
    "\n",
    "highlights_lengths = train_data[\"highlights\"].apply(lambda x: len(tokenizer.encode(x, truncation=False)))\n",
    "\n",
    "plt.figure(figsize=(14, 6))\n",
    "\n",
    "plt.subplot(1, 2, 1)\n",
    "plt.hist(article_lengths, bins=50, color='skyblue', edgecolor='black')\n",
    "plt.axvline(article_lengths.quantile(0.95), color='red', linestyle='dashed', linewidth=2)\n",
    "plt.title(\"Dialogue Token Lengths\")\n",
    "plt.xlabel(\"Number of tokens\")\n",
    "plt.ylabel(\"Frequency\")\n",
    "plt.grid(True)\n",
    "\n",
    "plt.subplot(1, 2, 2)\n",
    "plt.hist(highlights_lengths, bins=50, color='lightgreen', edgecolor='black')\n",
    "plt.axvline(highlights_lengths.quantile(0.95), color='red', linestyle='dashed', linewidth=2)\n",
    "plt.title(\"Summary Token Lengths\")\n",
    "plt.xlabel(\"Number of tokens\")\n",
    "plt.ylabel(\"Frequency\")\n",
    "plt.grid(True)\n",
    "\n",
    "plt.tight_layout()\n",
    "plt.show()\n"
   ]
  },
  {
   "cell_type": "code",
   "execution_count": 34,
   "id": "6b58221f",
   "metadata": {},
   "outputs": [],
   "source": [
    "train_data = train_data.reset_index(drop=True)\n",
    "val_data = val_data.reset_index(drop=True)\n",
    "test_data = test_data.reset_index(drop=True)\n",
    "\n",
    "\n",
    "train_dataset = Dataset.from_pandas(train_data)\n",
    "val_dataset = Dataset.from_pandas(val_data)\n",
    "test_dataset = Dataset.from_pandas(test_data)"
   ]
  },
  {
   "cell_type": "markdown",
   "id": "e987e3e2",
   "metadata": {},
   "source": [
    "# Tokenization"
   ]
  },
  {
   "cell_type": "code",
   "execution_count": 35,
   "id": "c73457f8",
   "metadata": {},
   "outputs": [],
   "source": [
    "def tokenization(examples):\n",
    "    model_inputs = tokenizer(\n",
    "        examples[\"article\"],\n",
    "        max_length=int(max_input_len),\n",
    "        truncation=True,\n",
    "        padding=\"max_length\"\n",
    "    )\n",
    "    \n",
    "    labels = tokenizer(\n",
    "        examples[\"highlights\"],\n",
    "        max_length=int(max_target_len),\n",
    "        truncation=True,\n",
    "        padding=\"max_length\"\n",
    "        )\n",
    "\n",
    "    labels_ids = labels[\"input_ids\"]\n",
    "\n",
    "\n",
    "    new_labels = []\n",
    "    for label_seq in labels_ids:\n",
    "        new_labels.append([\n",
    "            (label if label != tokenizer.pad_token_id else -100) for label in label_seq\n",
    "        ])\n",
    "\n",
    "    model_inputs[\"labels\"] = new_labels\n",
    "\n",
    "    return model_inputs\n"
   ]
  },
  {
   "cell_type": "code",
   "execution_count": 36,
   "id": "f1e20cec",
   "metadata": {},
   "outputs": [
    {
     "name": "stderr",
     "output_type": "stream",
     "text": [
      "Map: 100%|██████████| 10000/10000 [00:25<00:00, 390.52 examples/s]\n",
      "Map: 100%|██████████| 4000/4000 [00:10<00:00, 399.77 examples/s]\n"
     ]
    }
   ],
   "source": [
    "tokenized_train = train_dataset.map(tokenization, batched=True, batch_size=16, remove_columns=train_dataset.column_names)\n",
    "tokenized_val = val_dataset.map(tokenization, batched=True, batch_size=16, remove_columns=val_dataset.column_names)\n"
   ]
  },
  {
   "cell_type": "markdown",
   "id": "9552dade",
   "metadata": {},
   "source": [
    "# Training Arguments & Trainer"
   ]
  },
  {
   "cell_type": "code",
   "execution_count": 37,
   "id": "1a92de61",
   "metadata": {},
   "outputs": [],
   "source": [
    "training_args = Seq2SeqTrainingArguments(\n",
    "    output_dir=\"./t5-model_result\",\n",
    "    evaluation_strategy=\"epoch\",\n",
    "    learning_rate=2e-5,\n",
    "    per_device_train_batch_size=2,\n",
    "    per_device_eval_batch_size=2,\n",
    "    weight_decay=0.01,\n",
    "    save_total_limit=2,\n",
    "    num_train_epochs=5,\n",
    "    predict_with_generate=True,\n",
    "    report_to=\"none\",\n",
    "    no_cuda=False,\n",
    "    dataloader_num_workers=0,\n",
    "    fp16=True\n",
    ")"
   ]
  },
  {
   "cell_type": "code",
   "execution_count": 38,
   "id": "20a487ab",
   "metadata": {},
   "outputs": [],
   "source": [
    "trainer = Seq2SeqTrainer(\n",
    "    model=model,\n",
    "    args=training_args,\n",
    "    train_dataset=tokenized_train,\n",
    "    eval_dataset=tokenized_val,\n",
    "    tokenizer=tokenizer,\n",
    ")\n"
   ]
  },
  {
   "cell_type": "code",
   "execution_count": 39,
   "id": "11ed2a25",
   "metadata": {},
   "outputs": [
    {
     "name": "stderr",
     "output_type": "stream",
     "text": [
      "  2%|▏         | 500/25000 [02:08<1:43:48,  3.93it/s]"
     ]
    },
    {
     "name": "stdout",
     "output_type": "stream",
     "text": [
      "{'loss': 3.1845, 'grad_norm': 8.065502166748047, 'learning_rate': 1.9603200000000002e-05, 'epoch': 0.1}\n"
     ]
    },
    {
     "name": "stderr",
     "output_type": "stream",
     "text": [
      "  4%|▍         | 1000/25000 [04:19<1:42:21,  3.91it/s]"
     ]
    },
    {
     "name": "stdout",
     "output_type": "stream",
     "text": [
      "{'loss': 2.9919, 'grad_norm': 5.51259708404541, 'learning_rate': 1.9204e-05, 'epoch': 0.2}\n"
     ]
    },
    {
     "name": "stderr",
     "output_type": "stream",
     "text": [
      "  6%|▌         | 1500/25000 [06:29<1:39:26,  3.94it/s]"
     ]
    },
    {
     "name": "stdout",
     "output_type": "stream",
     "text": [
      "{'loss': 2.9495, 'grad_norm': 5.914538383483887, 'learning_rate': 1.8804e-05, 'epoch': 0.3}\n"
     ]
    },
    {
     "name": "stderr",
     "output_type": "stream",
     "text": [
      "  8%|▊         | 2000/25000 [08:40<1:38:39,  3.89it/s]"
     ]
    },
    {
     "name": "stdout",
     "output_type": "stream",
     "text": [
      "{'loss': 2.9146, 'grad_norm': 6.069338798522949, 'learning_rate': 1.8404000000000002e-05, 'epoch': 0.4}\n"
     ]
    },
    {
     "name": "stderr",
     "output_type": "stream",
     "text": [
      " 10%|█         | 2500/25000 [10:50<1:35:23,  3.93it/s]"
     ]
    },
    {
     "name": "stdout",
     "output_type": "stream",
     "text": [
      "{'loss': 2.9074, 'grad_norm': 6.842526912689209, 'learning_rate': 1.8004000000000002e-05, 'epoch': 0.5}\n"
     ]
    },
    {
     "name": "stderr",
     "output_type": "stream",
     "text": [
      " 12%|█▏        | 3000/25000 [13:01<1:33:17,  3.93it/s]"
     ]
    },
    {
     "name": "stdout",
     "output_type": "stream",
     "text": [
      "{'loss': 2.9003, 'grad_norm': 6.916818618774414, 'learning_rate': 1.76048e-05, 'epoch': 0.6}\n"
     ]
    },
    {
     "name": "stderr",
     "output_type": "stream",
     "text": [
      " 14%|█▍        | 3500/25000 [15:12<1:31:58,  3.90it/s]"
     ]
    },
    {
     "name": "stdout",
     "output_type": "stream",
     "text": [
      "{'loss': 2.8599, 'grad_norm': 17.26193618774414, 'learning_rate': 1.7204800000000002e-05, 'epoch': 0.7}\n"
     ]
    },
    {
     "name": "stderr",
     "output_type": "stream",
     "text": [
      " 16%|█▌        | 4000/25000 [17:23<1:30:30,  3.87it/s]"
     ]
    },
    {
     "name": "stdout",
     "output_type": "stream",
     "text": [
      "{'loss': 2.872, 'grad_norm': 5.046464443206787, 'learning_rate': 1.6804800000000002e-05, 'epoch': 0.8}\n"
     ]
    },
    {
     "name": "stderr",
     "output_type": "stream",
     "text": [
      " 18%|█▊        | 4500/25000 [19:35<1:27:46,  3.89it/s]"
     ]
    },
    {
     "name": "stdout",
     "output_type": "stream",
     "text": [
      "{'loss': 2.8453, 'grad_norm': 6.535424709320068, 'learning_rate': 1.64048e-05, 'epoch': 0.9}\n"
     ]
    },
    {
     "name": "stderr",
     "output_type": "stream",
     "text": [
      " 20%|██        | 5000/25000 [21:45<1:24:22,  3.95it/s]"
     ]
    },
    {
     "name": "stdout",
     "output_type": "stream",
     "text": [
      "{'loss': 2.8618, 'grad_norm': 5.946524620056152, 'learning_rate': 1.60048e-05, 'epoch': 1.0}\n"
     ]
    },
    {
     "name": "stderr",
     "output_type": "stream",
     "text": [
      "                                                      \n",
      " 20%|██        | 5000/25000 [24:40<1:24:22,  3.95it/s]"
     ]
    },
    {
     "name": "stdout",
     "output_type": "stream",
     "text": [
      "{'eval_loss': 2.530210018157959, 'eval_runtime': 172.5851, 'eval_samples_per_second': 23.177, 'eval_steps_per_second': 11.588, 'epoch': 1.0}\n"
     ]
    },
    {
     "name": "stderr",
     "output_type": "stream",
     "text": [
      " 22%|██▏       | 5500/25000 [26:48<1:23:20,  3.90it/s]  "
     ]
    },
    {
     "name": "stdout",
     "output_type": "stream",
     "text": [
      "{'loss': 2.8367, 'grad_norm': 7.400593280792236, 'learning_rate': 1.5605600000000002e-05, 'epoch': 1.1}\n"
     ]
    },
    {
     "name": "stderr",
     "output_type": "stream",
     "text": [
      " 24%|██▍       | 6000/25000 [28:59<1:21:17,  3.90it/s]"
     ]
    },
    {
     "name": "stdout",
     "output_type": "stream",
     "text": [
      "{'loss': 2.7627, 'grad_norm': 10.27779769897461, 'learning_rate': 1.52056e-05, 'epoch': 1.2}\n"
     ]
    },
    {
     "name": "stderr",
     "output_type": "stream",
     "text": [
      " 26%|██▌       | 6500/25000 [31:10<1:18:51,  3.91it/s]"
     ]
    },
    {
     "name": "stdout",
     "output_type": "stream",
     "text": [
      "{'loss': 2.7743, 'grad_norm': 8.865232467651367, 'learning_rate': 1.4805600000000003e-05, 'epoch': 1.3}\n"
     ]
    },
    {
     "name": "stderr",
     "output_type": "stream",
     "text": [
      " 28%|██▊       | 7000/25000 [33:21<1:17:08,  3.89it/s]"
     ]
    },
    {
     "name": "stdout",
     "output_type": "stream",
     "text": [
      "{'loss': 2.7654, 'grad_norm': 6.420201301574707, 'learning_rate': 1.4405600000000001e-05, 'epoch': 1.4}\n"
     ]
    },
    {
     "name": "stderr",
     "output_type": "stream",
     "text": [
      " 30%|███       | 7500/25000 [35:32<1:14:40,  3.91it/s]"
     ]
    },
    {
     "name": "stdout",
     "output_type": "stream",
     "text": [
      "{'loss': 2.7516, 'grad_norm': 8.083808898925781, 'learning_rate': 1.4006400000000002e-05, 'epoch': 1.5}\n"
     ]
    },
    {
     "name": "stderr",
     "output_type": "stream",
     "text": [
      " 32%|███▏      | 8000/25000 [37:43<1:12:30,  3.91it/s]"
     ]
    },
    {
     "name": "stdout",
     "output_type": "stream",
     "text": [
      "{'loss': 2.7867, 'grad_norm': 6.095561504364014, 'learning_rate': 1.3606400000000002e-05, 'epoch': 1.6}\n"
     ]
    },
    {
     "name": "stderr",
     "output_type": "stream",
     "text": [
      " 34%|███▍      | 8500/25000 [39:54<1:10:50,  3.88it/s]"
     ]
    },
    {
     "name": "stdout",
     "output_type": "stream",
     "text": [
      "{'loss': 2.811, 'grad_norm': 7.145437240600586, 'learning_rate': 1.3206400000000001e-05, 'epoch': 1.7}\n"
     ]
    },
    {
     "name": "stderr",
     "output_type": "stream",
     "text": [
      " 36%|███▌      | 9000/25000 [42:04<1:08:32,  3.89it/s]"
     ]
    },
    {
     "name": "stdout",
     "output_type": "stream",
     "text": [
      "{'loss': 2.7645, 'grad_norm': 7.350381374359131, 'learning_rate': 1.2806400000000002e-05, 'epoch': 1.8}\n"
     ]
    },
    {
     "name": "stderr",
     "output_type": "stream",
     "text": [
      " 38%|███▊      | 9500/25000 [44:15<1:06:16,  3.90it/s]"
     ]
    },
    {
     "name": "stdout",
     "output_type": "stream",
     "text": [
      "{'loss': 2.7655, 'grad_norm': 4.972773551940918, 'learning_rate': 1.24064e-05, 'epoch': 1.9}\n"
     ]
    },
    {
     "name": "stderr",
     "output_type": "stream",
     "text": [
      " 40%|████      | 10000/25000 [46:26<1:04:00,  3.91it/s]"
     ]
    },
    {
     "name": "stdout",
     "output_type": "stream",
     "text": [
      "{'loss': 2.7357, 'grad_norm': 6.38374137878418, 'learning_rate': 1.20064e-05, 'epoch': 2.0}\n"
     ]
    },
    {
     "name": "stderr",
     "output_type": "stream",
     "text": [
      "                                                       \n",
      " 40%|████      | 10000/25000 [49:21<1:04:00,  3.91it/s]"
     ]
    },
    {
     "name": "stdout",
     "output_type": "stream",
     "text": [
      "{'eval_loss': 2.490318775177002, 'eval_runtime': 172.5852, 'eval_samples_per_second': 23.177, 'eval_steps_per_second': 11.588, 'epoch': 2.0}\n"
     ]
    },
    {
     "name": "stderr",
     "output_type": "stream",
     "text": [
      " 42%|████▏     | 10500/25000 [51:29<1:02:07,  3.89it/s]  "
     ]
    },
    {
     "name": "stdout",
     "output_type": "stream",
     "text": [
      "{'loss': 2.7366, 'grad_norm': 7.226229190826416, 'learning_rate': 1.16064e-05, 'epoch': 2.1}\n"
     ]
    },
    {
     "name": "stderr",
     "output_type": "stream",
     "text": [
      " 44%|████▍     | 11000/25000 [53:40<59:49,  3.90it/s]  "
     ]
    },
    {
     "name": "stdout",
     "output_type": "stream",
     "text": [
      "{'loss': 2.7427, 'grad_norm': 5.927580833435059, 'learning_rate': 1.1206400000000002e-05, 'epoch': 2.2}\n"
     ]
    },
    {
     "name": "stderr",
     "output_type": "stream",
     "text": [
      " 46%|████▌     | 11500/25000 [55:50<57:49,  3.89it/s]  "
     ]
    },
    {
     "name": "stdout",
     "output_type": "stream",
     "text": [
      "{'loss': 2.7585, 'grad_norm': 7.348710536956787, 'learning_rate': 1.0808e-05, 'epoch': 2.3}\n"
     ]
    },
    {
     "name": "stderr",
     "output_type": "stream",
     "text": [
      " 48%|████▊     | 12000/25000 [58:02<55:39,  3.89it/s]  "
     ]
    },
    {
     "name": "stdout",
     "output_type": "stream",
     "text": [
      "{'loss': 2.6805, 'grad_norm': 5.773550033569336, 'learning_rate': 1.0408000000000001e-05, 'epoch': 2.4}\n"
     ]
    },
    {
     "name": "stderr",
     "output_type": "stream",
     "text": [
      " 50%|█████     | 12500/25000 [1:00:14<53:52,  3.87it/s]"
     ]
    },
    {
     "name": "stdout",
     "output_type": "stream",
     "text": [
      "{'loss': 2.7461, 'grad_norm': 10.427749633789062, 'learning_rate': 1.0008e-05, 'epoch': 2.5}\n"
     ]
    },
    {
     "name": "stderr",
     "output_type": "stream",
     "text": [
      " 52%|█████▏    | 13000/25000 [1:02:25<51:45,  3.86it/s]  "
     ]
    },
    {
     "name": "stdout",
     "output_type": "stream",
     "text": [
      "{'loss': 2.6817, 'grad_norm': 4.772220134735107, 'learning_rate': 9.608e-06, 'epoch': 2.6}\n"
     ]
    },
    {
     "name": "stderr",
     "output_type": "stream",
     "text": [
      " 54%|█████▍    | 13500/25000 [1:04:37<49:29,  3.87it/s]  "
     ]
    },
    {
     "name": "stdout",
     "output_type": "stream",
     "text": [
      "{'loss': 2.7136, 'grad_norm': 5.435251712799072, 'learning_rate': 9.208e-06, 'epoch': 2.7}\n"
     ]
    },
    {
     "name": "stderr",
     "output_type": "stream",
     "text": [
      " 56%|█████▌    | 14000/25000 [1:06:48<47:17,  3.88it/s]  "
     ]
    },
    {
     "name": "stdout",
     "output_type": "stream",
     "text": [
      "{'loss': 2.7359, 'grad_norm': 4.768716335296631, 'learning_rate': 8.808000000000001e-06, 'epoch': 2.8}\n"
     ]
    },
    {
     "name": "stderr",
     "output_type": "stream",
     "text": [
      " 58%|█████▊    | 14500/25000 [1:09:00<45:19,  3.86it/s]  "
     ]
    },
    {
     "name": "stdout",
     "output_type": "stream",
     "text": [
      "{'loss': 2.7504, 'grad_norm': 3.4576632976531982, 'learning_rate': 8.408e-06, 'epoch': 2.9}\n"
     ]
    },
    {
     "name": "stderr",
     "output_type": "stream",
     "text": [
      " 60%|██████    | 15000/25000 [1:11:11<42:29,  3.92it/s]  "
     ]
    },
    {
     "name": "stdout",
     "output_type": "stream",
     "text": [
      "{'loss': 2.7091, 'grad_norm': 4.978166103363037, 'learning_rate': 8.008e-06, 'epoch': 3.0}\n"
     ]
    },
    {
     "name": "stderr",
     "output_type": "stream",
     "text": [
      "                                                       \n",
      " 60%|██████    | 15000/25000 [1:14:07<42:29,  3.92it/s]"
     ]
    },
    {
     "name": "stdout",
     "output_type": "stream",
     "text": [
      "{'eval_loss': 2.4703919887542725, 'eval_runtime': 173.4607, 'eval_samples_per_second': 23.06, 'eval_steps_per_second': 11.53, 'epoch': 3.0}\n"
     ]
    },
    {
     "name": "stderr",
     "output_type": "stream",
     "text": [
      " 62%|██████▏   | 15500/25000 [1:16:16<40:45,  3.88it/s]    "
     ]
    },
    {
     "name": "stdout",
     "output_type": "stream",
     "text": [
      "{'loss': 2.7275, 'grad_norm': 12.305716514587402, 'learning_rate': 7.608000000000001e-06, 'epoch': 3.1}\n"
     ]
    },
    {
     "name": "stderr",
     "output_type": "stream",
     "text": [
      " 64%|██████▍   | 16000/25000 [1:18:28<38:38,  3.88it/s]  "
     ]
    },
    {
     "name": "stdout",
     "output_type": "stream",
     "text": [
      "{'loss': 2.7143, 'grad_norm': 5.351894855499268, 'learning_rate': 7.208e-06, 'epoch': 3.2}\n"
     ]
    },
    {
     "name": "stderr",
     "output_type": "stream",
     "text": [
      " 66%|██████▌   | 16500/25000 [1:20:39<36:20,  3.90it/s]  "
     ]
    },
    {
     "name": "stdout",
     "output_type": "stream",
     "text": [
      "{'loss': 2.7154, 'grad_norm': 13.790127754211426, 'learning_rate': 6.808e-06, 'epoch': 3.3}\n"
     ]
    },
    {
     "name": "stderr",
     "output_type": "stream",
     "text": [
      " 68%|██████▊   | 17000/25000 [1:22:49<34:09,  3.90it/s]  "
     ]
    },
    {
     "name": "stdout",
     "output_type": "stream",
     "text": [
      "{'loss': 2.6313, 'grad_norm': 8.557809829711914, 'learning_rate': 6.408000000000001e-06, 'epoch': 3.4}\n"
     ]
    },
    {
     "name": "stderr",
     "output_type": "stream",
     "text": [
      " 70%|███████   | 17500/25000 [1:25:00<32:04,  3.90it/s]  "
     ]
    },
    {
     "name": "stdout",
     "output_type": "stream",
     "text": [
      "{'loss': 2.6887, 'grad_norm': 5.921323776245117, 'learning_rate': 6.008000000000001e-06, 'epoch': 3.5}\n"
     ]
    },
    {
     "name": "stderr",
     "output_type": "stream",
     "text": [
      " 72%|███████▏  | 18000/25000 [1:27:11<30:03,  3.88it/s]  "
     ]
    },
    {
     "name": "stdout",
     "output_type": "stream",
     "text": [
      "{'loss': 2.6934, 'grad_norm': 5.961472511291504, 'learning_rate': 5.608800000000001e-06, 'epoch': 3.6}\n"
     ]
    },
    {
     "name": "stderr",
     "output_type": "stream",
     "text": [
      " 74%|███████▍  | 18500/25000 [1:29:23<28:01,  3.86it/s]  "
     ]
    },
    {
     "name": "stdout",
     "output_type": "stream",
     "text": [
      "{'loss': 2.7567, 'grad_norm': 5.623019218444824, 'learning_rate': 5.208800000000001e-06, 'epoch': 3.7}\n"
     ]
    },
    {
     "name": "stderr",
     "output_type": "stream",
     "text": [
      " 76%|███████▌  | 19000/25000 [1:31:34<25:54,  3.86it/s]  "
     ]
    },
    {
     "name": "stdout",
     "output_type": "stream",
     "text": [
      "{'loss': 2.6264, 'grad_norm': 4.812320709228516, 'learning_rate': 4.8088000000000004e-06, 'epoch': 3.8}\n"
     ]
    },
    {
     "name": "stderr",
     "output_type": "stream",
     "text": [
      " 78%|███████▊  | 19500/25000 [1:34:01<26:05,  3.51it/s]  "
     ]
    },
    {
     "name": "stdout",
     "output_type": "stream",
     "text": [
      "{'loss': 2.6959, 'grad_norm': 15.718547821044922, 'learning_rate': 4.4088e-06, 'epoch': 3.9}\n"
     ]
    },
    {
     "name": "stderr",
     "output_type": "stream",
     "text": [
      " 80%|████████  | 20000/25000 [1:36:27<27:07,  3.07it/s]  "
     ]
    },
    {
     "name": "stdout",
     "output_type": "stream",
     "text": [
      "{'loss': 2.6871, 'grad_norm': nan, 'learning_rate': 4.010400000000001e-06, 'epoch': 4.0}\n"
     ]
    },
    {
     "name": "stderr",
     "output_type": "stream",
     "text": [
      "                                                       \n",
      " 80%|████████  | 20000/25000 [1:40:16<27:07,  3.07it/s]"
     ]
    },
    {
     "name": "stdout",
     "output_type": "stream",
     "text": [
      "{'eval_loss': 2.4678587913513184, 'eval_runtime': 226.9471, 'eval_samples_per_second': 17.625, 'eval_steps_per_second': 8.813, 'epoch': 4.0}\n"
     ]
    },
    {
     "name": "stderr",
     "output_type": "stream",
     "text": [
      " 82%|████████▏ | 20500/25000 [1:43:12<25:46,  2.91it/s]   "
     ]
    },
    {
     "name": "stdout",
     "output_type": "stream",
     "text": [
      "{'loss': 2.7039, 'grad_norm': 4.981429576873779, 'learning_rate': 3.6112000000000003e-06, 'epoch': 4.1}\n"
     ]
    },
    {
     "name": "stderr",
     "output_type": "stream",
     "text": [
      " 84%|████████▍ | 21000/25000 [1:46:10<20:54,  3.19it/s]  "
     ]
    },
    {
     "name": "stdout",
     "output_type": "stream",
     "text": [
      "{'loss': 2.6599, 'grad_norm': 8.326851844787598, 'learning_rate': 3.2112000000000003e-06, 'epoch': 4.2}\n"
     ]
    },
    {
     "name": "stderr",
     "output_type": "stream",
     "text": [
      " 86%|████████▌ | 21500/25000 [1:48:25<15:10,  3.84it/s]  "
     ]
    },
    {
     "name": "stdout",
     "output_type": "stream",
     "text": [
      "{'loss': 2.6526, 'grad_norm': 9.086710929870605, 'learning_rate': 2.8112e-06, 'epoch': 4.3}\n"
     ]
    },
    {
     "name": "stderr",
     "output_type": "stream",
     "text": [
      " 88%|████████▊ | 22000/25000 [1:50:37<12:56,  3.86it/s]"
     ]
    },
    {
     "name": "stdout",
     "output_type": "stream",
     "text": [
      "{'loss': 2.6792, 'grad_norm': 8.907578468322754, 'learning_rate': 2.4112000000000003e-06, 'epoch': 4.4}\n"
     ]
    },
    {
     "name": "stderr",
     "output_type": "stream",
     "text": [
      " 90%|█████████ | 22500/25000 [1:52:50<10:46,  3.87it/s]"
     ]
    },
    {
     "name": "stdout",
     "output_type": "stream",
     "text": [
      "{'loss': 2.6961, 'grad_norm': 5.887639999389648, 'learning_rate': 2.0112e-06, 'epoch': 4.5}\n"
     ]
    },
    {
     "name": "stderr",
     "output_type": "stream",
     "text": [
      " 92%|█████████▏| 23000/25000 [1:55:02<08:35,  3.88it/s]"
     ]
    },
    {
     "name": "stdout",
     "output_type": "stream",
     "text": [
      "{'loss': 2.6408, 'grad_norm': 6.527085304260254, 'learning_rate': 1.6112000000000003e-06, 'epoch': 4.6}\n"
     ]
    },
    {
     "name": "stderr",
     "output_type": "stream",
     "text": [
      " 94%|█████████▍| 23500/25000 [1:57:14<06:25,  3.89it/s]"
     ]
    },
    {
     "name": "stdout",
     "output_type": "stream",
     "text": [
      "{'loss': 2.6652, 'grad_norm': 5.163962364196777, 'learning_rate': 1.2112000000000002e-06, 'epoch': 4.7}\n"
     ]
    },
    {
     "name": "stderr",
     "output_type": "stream",
     "text": [
      " 96%|█████████▌| 24000/25000 [1:59:26<04:18,  3.86it/s]"
     ]
    },
    {
     "name": "stdout",
     "output_type": "stream",
     "text": [
      "{'loss': 2.666, 'grad_norm': 6.112136363983154, 'learning_rate': 8.112000000000001e-07, 'epoch': 4.8}\n"
     ]
    },
    {
     "name": "stderr",
     "output_type": "stream",
     "text": [
      " 98%|█████████▊| 24500/25000 [2:01:38<02:06,  3.94it/s]"
     ]
    },
    {
     "name": "stdout",
     "output_type": "stream",
     "text": [
      "{'loss': 2.6906, 'grad_norm': 5.145246505737305, 'learning_rate': 4.112e-07, 'epoch': 4.9}\n"
     ]
    },
    {
     "name": "stderr",
     "output_type": "stream",
     "text": [
      "100%|██████████| 25000/25000 [2:03:48<00:00,  3.93it/s]"
     ]
    },
    {
     "name": "stdout",
     "output_type": "stream",
     "text": [
      "{'loss': 2.6958, 'grad_norm': 6.484584808349609, 'learning_rate': 1.12e-08, 'epoch': 5.0}\n"
     ]
    },
    {
     "name": "stderr",
     "output_type": "stream",
     "text": [
      "                                                       \n",
      "100%|██████████| 25000/25000 [2:06:43<00:00,  3.29it/s]"
     ]
    },
    {
     "name": "stdout",
     "output_type": "stream",
     "text": [
      "{'eval_loss': 2.464303731918335, 'eval_runtime': 172.2247, 'eval_samples_per_second': 23.225, 'eval_steps_per_second': 11.613, 'epoch': 5.0}\n",
      "{'train_runtime': 7603.0338, 'train_samples_per_second': 6.576, 'train_steps_per_second': 3.288, 'train_loss': 2.7596649365234374, 'epoch': 5.0}\n"
     ]
    },
    {
     "name": "stderr",
     "output_type": "stream",
     "text": [
      "\n"
     ]
    },
    {
     "data": {
      "text/plain": [
       "TrainOutput(global_step=25000, training_loss=2.7596649365234374, metrics={'train_runtime': 7603.0338, 'train_samples_per_second': 6.576, 'train_steps_per_second': 3.288, 'total_flos': 1.6058621952e+16, 'train_loss': 2.7596649365234374, 'epoch': 5.0})"
      ]
     },
     "execution_count": 39,
     "metadata": {},
     "output_type": "execute_result"
    }
   ],
   "source": [
    "trainer.train()\n"
   ]
  },
  {
   "cell_type": "markdown",
   "id": "64471556",
   "metadata": {},
   "source": [
    "# Visualize Evaluation"
   ]
  },
  {
   "cell_type": "code",
   "execution_count": null,
   "id": "195c41b1",
   "metadata": {},
   "outputs": [
    {
     "data": {
      "image/png": "[encoded data removed]",
      "text/plain": [
       "<Figure size 1000x600 with 1 Axes>"
      ]
     },
     "metadata": {},
     "output_type": "display_data"
    }
   ],
   "source": [
    "import os\n",
    "import json\n",
    "import matplotlib.pyplot as plt\n",
    "\n",
    "\n",
    "base_dir = r\"t5-model_result\"\n",
    "\n",
    "steps, train_loss, eval_loss_steps, eval_loss_values = [], [], [], []\n",
    "\n",
    "\n",
    "for folder in sorted(os.listdir(base_dir), key=lambda x: int(x.split(\"-\")[-1]) if \"-\" in x else -1):\n",
    "    folder_path = os.path.join(base_dir, folder)\n",
    "    trainer_file = os.path.join(folder_path, \"trainer_state.json\")\n",
    "\n",
    "    if os.path.isfile(trainer_file):\n",
    "        with open(trainer_file, \"r\", encoding=\"utf-8\") as f:\n",
    "            data = json.load(f)\n",
    "\n",
    "        for entry in data.get(\"log_history\", []):\n",
    "            if \"loss\" in entry:  \n",
    "                steps.append(entry[\"step\"])\n",
    "                train_loss.append(entry[\"loss\"])\n",
    "            elif \"eval_loss\" in entry:  \n",
    "                eval_loss_steps.append(entry[\"step\"])\n",
    "                eval_loss_values.append(entry[\"eval_loss\"])\n",
    "\n",
    "plt.figure(figsize=(10, 6))\n",
    "plt.plot(steps, train_loss, label=\"Training Loss\", color=\"blue\")\n",
    "plt.plot(eval_loss_steps, eval_loss_values, label=\"Evaluation Loss\", color=\"orange\", marker=\"o\")\n",
    "plt.xlabel(\"Steps\")\n",
    "plt.ylabel(\"Loss\")\n",
    "plt.title(\"Training & Evaluation Loss Over All Checkpoints\")\n",
    "plt.legend()\n",
    "plt.grid(True)\n",
    "plt.show()\n"
   ]
  },
  {
   "cell_type": "markdown",
   "id": "47ddc578",
   "metadata": {},
   "source": [
    "# Save & Load Model"
   ]
  },
  {
   "cell_type": "code",
   "execution_count": 40,
   "id": "0be95c79",
   "metadata": {},
   "outputs": [
    {
     "data": {
      "text/plain": [
       "('t5-Text-Summarizer\\\\tokenizer_config.json',\n",
       " 't5-Text-Summarizer\\\\special_tokens_map.json',\n",
       " 't5-Text-Summarizer\\\\spiece.model',\n",
       " 't5-Text-Summarizer\\\\added_tokens.json')"
      ]
     },
     "execution_count": 40,
     "metadata": {},
     "output_type": "execute_result"
    }
   ],
   "source": [
    "save_dir = \"t5-Text-Summarizer\"\n",
    "\n",
    "model.save_pretrained(save_dir)\n",
    "tokenizer.save_pretrained(save_dir)\n"
   ]
  },
  {
   "cell_type": "code",
   "execution_count": null,
   "id": "f178bf7d",
   "metadata": {},
   "outputs": [],
   "source": [
    "save_dir = \"t5-Text-Summarizer\"\n",
    "\n",
    "model = T5ForConditionalGeneration.from_pretrained(save_dir)\n",
    "tokenizer = T5Tokenizer.from_pretrained(save_dir)\n"
   ]
  },
  {
   "cell_type": "markdown",
   "id": "6a045a29",
   "metadata": {},
   "source": [
    "# Show Predicted Summary "
   ]
  },
  {
   "cell_type": "code",
   "execution_count": null,
   "id": "e02830d0",
   "metadata": {},
   "outputs": [
    {
     "name": "stderr",
     "output_type": "stream",
     "text": [
      "100%|██████████| 2000/2000 [38:28<00:00,  1.15s/it]\n"
     ]
    }
   ],
   "source": [
    "device = torch.device(\"cuda\" if torch.cuda.is_available() else \"cpu\")\n",
    "model.to(device)\n",
    "\n",
    "def summarize_text(article):\n",
    "    article = Preprocessing_text(article)  \n",
    "    \n",
    "    inputs = tokenizer(\n",
    "        article,\n",
    "        return_tensors=\"pt\",\n",
    "        truncation=True,\n",
    "        padding=\"max_length\",\n",
    "        max_length=512\n",
    "    )\n",
    "\n",
    "    input_ids = inputs[\"input_ids\"].to(device)\n",
    "    attention_mask = inputs[\"attention_mask\"].to(device)\n",
    "\n",
    "    outputs = model.generate(\n",
    "        input_ids,\n",
    "        attention_mask=attention_mask,  \n",
    "        max_length=150,\n",
    "        min_length=30,\n",
    "        num_beams=4,\n",
    "        length_penalty=2.0,\n",
    "        early_stopping=True\n",
    "    )\n",
    "\n",
    "    summary = tokenizer.decode(outputs[0], skip_special_tokens=True)\n",
    "    return summary\n",
    "\n",
    "\n",
    "test_data[\"predicted_summary\"] = test_data[\"article\"].progress_apply(summarize_text)\n"
   ]
  },
  {
   "cell_type": "code",
   "execution_count": 119,
   "id": "d6e06311",
   "metadata": {},
   "outputs": [
    {
     "name": "stdout",
     "output_type": "stream",
     "text": [
      "The Article :\n",
      " Comedian Jenny Eclair travelled with her other half on a Painting In Venus break with Flavours . There comes a time in a woman’s life when beach holidays just don’t cut it any longer, when lying on golden sands (unless you’re buried up to your neck) serves only to remind you how much weight you forgot to lose again this year and how ill-fitting your swimming costume is. Being control freaks, most fifty-something females find ‘doing nothing’ a bit boring – after all, there are only so many hours one can spend on a Kindle, and woman cannot live by fiction alone. This is the time when the ‘alternative holiday experience’ tickles your holiday tastebuds and you find yourself looking at brochures for Nordic cruises. Excellent! Everyone looks fat pointing at a fjord while wearing an Aran jumper. But apart from choosing chilly destinations such as the Arctic or Scarborough, your other non-lolling-about option is the ‘activity holiday’, which can range from Pilates to kayaking, or painting to pottery. Yes, I’ve crossed over: the world is divided into those who still want to ‘give it large’ in Ibiza, and those who want to find their ‘inner artist’. An excursion to Venice one day provided inspiration for the budding artists . I’m in the latter camp – and I’ve got the paintings to prove it. Over the past year, I have found enormous pleasure, not in shoe shops, but in the haberdashery department of Peter Jones, or any shop that supplies art materials. I’ve developed a yearning to be creative. I wanted to do something in my spare time that saved my sanity, lowered my blood pressure (without going to the gym), soothed my soul and, with any luck, provided some cheap Christmas presents. Cooking has never been my thing, I’m an enthusiastic but rubbish knitter, but I did do A-level Art, so I decided I fancied being taught how to master watercolours while simultaneously having a holiday somewhere nice. Bingo! Last autumn I found myself spending a week in Treviso, just outside Venice, with a nine-strong crew of wannabe artists and keen cooks. Now before I go any further, I have to warn any single ladies that if you’re looking for hanky-panky, the Italian painting/cooking holiday combo may not provide rich pickings. With the exception of the painting tutor, Scotsman Hugh, and my other half Geof, we were middle-aged women to the core. Fabulous, hilarious, slightly eccentric middle- aged, middle-class women with plenty of pashminas and photos of dogs on our iPhones! Jenny stayed at the Villa Bianchi, a comfortable farmhouse surrounded by maize fields and within easy striking distance by car of both Treviso and Venice . For seven days, we painters were patiently guided by Hugh through the basics of sketching, paint technique, colour and form, while the cooks stayed in the kitchen making our meals. I know who picked the short straw. But then, as they say, it’s horses for courses. The cooks wanted to chop vegetables into smithereens, while we artists wanted to sit in a medieval market town with a paintbrush in one hand and a glass of prosecco in the other. Of course, it wasn’t all work. Two days into the break, our holiday operator Flavours herded us all into minibuses and took us to Venice. Like schoolchildren with credit cards, we roamed the most beautiful city in the world and came home, inspired by its mind-boggling loveliness, with lots of photos to copy into our art books back at our base, Villa Bianchi. Staying in Treviso, just outside Venice, Jenny stayed in a nine-strong crew of wannabe artists and keen cooks . Although it was in the middle of nowhere, the farmhouse was comfortable, surrounded by maize fields and within easy striking distance by car of both Treviso and Venice. The grounds were meticulously kept and the garden featured a very attractive landscaped pool. Being the only couple, Geof and I had a separate annexe to ourselves. It might have looked a bit garage-like from the outside, but inside it was large and comfortable and contained a small kitchen (handy if the cooks in the main house aren’t up to scratch). Accommodation in the main villa was simple but stylish, whistle-clean, and with lots of bold splashes of colour and squishy sofas. Outside, a covered colonnaded area meant we could paint outdoors even when the weather turned. In terms of relaxation, the holiday ticked all the right boxes – Geof and I had a completely stress-free break, and other people did the cooking. How marvellous is that? There was no need to feel anxious about restaurant bills as the food and drink were entirely inclusive, even when went out on day trips to Venice and Treviso. As for our artistic endeavours, Geof cheated, having been at art school in the 1960s. Heavenly backdrop: Church of Santa Maria Della Salute at dusk, Venice, just one of the Venetian sights that provided inspiration in the historic city . He quickly became the teacher’s pet, which was slightly infuriating (although secretly I was rather proud of him). And me? Well, I definitely found my inner artist. Unfortunately she’s a bit gaudy and rather heavy-handed on the colour front, but if you like your paintings slightly vulgar, then I’m happy to take commissions (prices on application). So, well done to Flavours. Thanks to you, a ratty, tired old couple came home with a some rather special holiday memories. Now, I’m not saying that any of mine are going on the wall, but a couple of Geof’s might make it into frames. In the meantime, I’m still doing it. My palette, brushes and delicious selection of multi-coloured pans (the little blocks of paint) are always to hand. I love the ritual of it. I like the way my breathing slows down when I have a brush in my hand. I might not be very good at painting but painting is very good for me. Flavours (flavoursholidays.co.uk, 0131 343 2500) offers a seven-night full-board Painting In Venice break from £1,599pp, including wine with meals, five days of tuition, excursions, and £100 towards flight costs. British Airways (ba.com) offers return flights to Venice from Heathrow, Gatwick and London City from £77pp.\n",
      "The Highlights:\n",
      " The comedian stayed with Flavours who offer a Painting In Venice break .\n",
      "Jenny and her partner Geof stayed at the farmhouse Villa Bianchi .\n",
      "Days involved sitting in medieval market towns with a brush and prosecco .\n",
      "The Predicted Summary:\n",
      " jenny eclair travelled half painting venus break flavours comes time womans life beach holidays dont cut longer lying golden sands unless youre buried neck serves remind much weight forgot lose year\n"
     ]
    }
   ],
   "source": [
    "print(\"The Article :\\n\",test_data[\"article\"][0])\n",
    "\n",
    "print(f\"The Highlights:\\n\",test_data[\"highlights\"][0])\n",
    "\n",
    "print(f\"The Predicted Summary:\\n\",test_data[\"predicted_summary\"][0])\n"
   ]
  },
  {
   "cell_type": "markdown",
   "id": "e82d084b",
   "metadata": {},
   "source": [
    "# Question & Answering Model "
   ]
  },
  {
   "cell_type": "code",
   "execution_count": null,
   "id": "85b4cb28",
   "metadata": {},
   "outputs": [
    {
     "name": "stderr",
     "output_type": "stream",
     "text": [
      "Hardware accelerator e.g. GPU is available in the environment, but no `device` argument is passed to the `Pipeline` object. Model will be on CPU.\n"
     ]
    },
    {
     "name": "stdout",
     "output_type": "stream",
     "text": [
      "The Article:\n",
      "Comedian Jenny Eclair travelled with her other half on a Painting In Venus break with Flavours . There comes a time in a woman’s life when beach holidays just don’t cut it any longer, when lying on golden sands (unless you’re buried up to your neck) serves only to remind you how much weight you forgot to lose again this year and how ill-fitting your swimming costume is. Being control freaks, most fifty-something females find ‘doing nothing’ a bit boring – after all, there are only so many hours one can spend on a Kindle, and woman cannot live by fiction alone. This is the time when the ‘alternative holiday experience’ tickles your holiday tastebuds and you find yourself looking at brochures for Nordic cruises. Excellent! Everyone looks fat pointing at a fjord while wearing an Aran jumper. But apart from choosing chilly destinations such as the Arctic or Scarborough, your other non-lolling-about option is the ‘activity holiday’, which can range from Pilates to kayaking, or painting to pottery. Yes, I’ve crossed over: the world is divided into those who still want to ‘give it large’ in Ibiza, and those who want to find their ‘inner artist’. An excursion to Venice one day provided inspiration for the budding artists . I’m in the latter camp – and I’ve got the paintings to prove it. Over the past year, I have found enormous pleasure, not in shoe shops, but in the haberdashery department of Peter Jones, or any shop that supplies art materials. I’ve developed a yearning to be creative. I wanted to do something in my spare time that saved my sanity, lowered my blood pressure (without going to the gym), soothed my soul and, with any luck, provided some cheap Christmas presents. Cooking has never been my thing, I’m an enthusiastic but rubbish knitter, but I did do A-level Art, so I decided I fancied being taught how to master watercolours while simultaneously having a holiday somewhere nice. Bingo! Last autumn I found myself spending a week in Treviso, just outside Venice, with a nine-strong crew of wannabe artists and keen cooks. Now before I go any further, I have to warn any single ladies that if you’re looking for hanky-panky, the Italian painting/cooking holiday combo may not provide rich pickings. With the exception of the painting tutor, Scotsman Hugh, and my other half Geof, we were middle-aged women to the core. Fabulous, hilarious, slightly eccentric middle- aged, middle-class women with plenty of pashminas and photos of dogs on our iPhones! Jenny stayed at the Villa Bianchi, a comfortable farmhouse surrounded by maize fields and within easy striking distance by car of both Treviso and Venice . For seven days, we painters were patiently guided by Hugh through the basics of sketching, paint technique, colour and form, while the cooks stayed in the kitchen making our meals. I know who picked the short straw. But then, as they say, it’s horses for courses. The cooks wanted to chop vegetables into smithereens, while we artists wanted to sit in a medieval market town with a paintbrush in one hand and a glass of prosecco in the other. Of course, it wasn’t all work. Two days into the break, our holiday operator Flavours herded us all into minibuses and took us to Venice. Like schoolchildren with credit cards, we roamed the most beautiful city in the world and came home, inspired by its mind-boggling loveliness, with lots of photos to copy into our art books back at our base, Villa Bianchi. Staying in Treviso, just outside Venice, Jenny stayed in a nine-strong crew of wannabe artists and keen cooks . Although it was in the middle of nowhere, the farmhouse was comfortable, surrounded by maize fields and within easy striking distance by car of both Treviso and Venice. The grounds were meticulously kept and the garden featured a very attractive landscaped pool. Being the only couple, Geof and I had a separate annexe to ourselves. It might have looked a bit garage-like from the outside, but inside it was large and comfortable and contained a small kitchen (handy if the cooks in the main house aren’t up to scratch). Accommodation in the main villa was simple but stylish, whistle-clean, and with lots of bold splashes of colour and squishy sofas. Outside, a covered colonnaded area meant we could paint outdoors even when the weather turned. In terms of relaxation, the holiday ticked all the right boxes – Geof and I had a completely stress-free break, and other people did the cooking. How marvellous is that? There was no need to feel anxious about restaurant bills as the food and drink were entirely inclusive, even when went out on day trips to Venice and Treviso. As for our artistic endeavours, Geof cheated, having been at art school in the 1960s. Heavenly backdrop: Church of Santa Maria Della Salute at dusk, Venice, just one of the Venetian sights that provided inspiration in the historic city . He quickly became the teacher’s pet, which was slightly infuriating (although secretly I was rather proud of him). And me? Well, I definitely found my inner artist. Unfortunately she’s a bit gaudy and rather heavy-handed on the colour front, but if you like your paintings slightly vulgar, then I’m happy to take commissions (prices on application). So, well done to Flavours. Thanks to you, a ratty, tired old couple came home with a some rather special holiday memories. Now, I’m not saying that any of mine are going on the wall, but a couple of Geof’s might make it into frames. In the meantime, I’m still doing it. My palette, brushes and delicious selection of multi-coloured pans (the little blocks of paint) are always to hand. I love the ritual of it. I like the way my breathing slows down when I have a brush in my hand. I might not be very good at painting but painting is very good for me. Flavours (flavoursholidays.co.uk, 0131 343 2500) offers a seven-night full-board Painting In Venice break from £1,599pp, including wine with meals, five days of tuition, excursions, and £100 towards flight costs. British Airways (ba.com) offers return flights to Venice from Heathrow, Gatwick and London City from £77pp.\n",
      "\n",
      "The Highlights:\n",
      "The comedian stayed with Flavours who offer a Painting In Venice break .\n",
      "Jenny and her partner Geof stayed at the farmhouse Villa Bianchi .\n",
      "Days involved sitting in medieval market towns with a brush and prosecco .\n",
      "\n",
      "The Predicted Summary:\n",
      "jenny eclair travelled half painting venus break flavours comes time womans life beach holidays dont cut longer lying golden sands unless youre buried neck serves remind much weight forgot lose year\n",
      "\n",
      "Q&A on the Summary:\n",
      "Q: Who is the comedian?\n",
      "A: Jenny Eclair\n",
      "\n",
      "Q: Where did the comedian travel?\n",
      "A: Venice\n",
      "\n",
      "Q: What was the main topic of the article?\n",
      "A: Being control freaks\n",
      "\n",
      "Q: What kind of holiday is described?\n",
      "A: special holiday\n",
      "\n",
      "Q: Why did the woman stop liking beach holidays?\n",
      "A: just don’t cut it any longer, when lying on golden sands\n",
      "\n"
     ]
    }
   ],
   "source": [
    "qa_pipeline = pipeline(\"question-answering\", model=\"distilbert-base-cased-distilled-squad\")\n",
    "\n",
    "def answer_question(question, context):\n",
    "    result = qa_pipeline(question=question, context=context)\n",
    "    return result['answer']\n",
    "\n",
    "\n",
    "print(f\"The Article:\\n{test_data['article'][0]}\\n\")\n",
    "print(f\"The Highlights:\\n{test_data['highlights'][0]}\\n\")\n",
    "print(f\"The Predicted Summary:\\n{test_data['predicted_summary'][0]}\\n\")\n",
    "\n",
    "\n",
    "summary = test_data['predicted_summary'][0]\n",
    "context = test_data[\"article\"][0]\n",
    "questions = [\n",
    "    \"Who is the comedian?\",\n",
    "    \"Where did the comedian travel?\",\n",
    "    \"What was the main topic of the article?\",\n",
    "    \"What kind of holiday is described?\",\n",
    "    \"Why did the woman stop liking beach holidays?\"\n",
    "]\n",
    "\n",
    "print(\"Q&A on the Summary:\")\n",
    "for q in questions:\n",
    "    ans = qa_pipeline(question=q, context=context)\n",
    "    print(f\"Q: {q}\")\n",
    "    print(f\"A: {ans['answer']}\\n\")"
   ]
  },
  {
   "cell_type": "markdown",
   "id": "a183a447",
   "metadata": {},
   "source": [
    "# Evaluation (BERTScore , ROUGEScore)"
   ]
  },
  {
   "cell_type": "code",
   "execution_count": null,
   "id": "6b2cd4b4",
   "metadata": {},
   "outputs": [
    {
     "name": "stderr",
     "output_type": "stream",
     "text": [
      "Some weights of RobertaModel were not initialized from the model checkpoint at roberta-large and are newly initialized: ['roberta.pooler.dense.bias', 'roberta.pooler.dense.weight']\n",
      "You should probably TRAIN this model on a down-stream task to be able to use it for predictions and inference.\n"
     ]
    },
    {
     "name": "stdout",
     "output_type": "stream",
     "text": [
      "calculating scores...\n",
      "computing bert embedding.\n"
     ]
    },
    {
     "name": "stderr",
     "output_type": "stream",
     "text": [
      "100%|██████████| 63/63 [01:44<00:00,  1.66s/it]\n"
     ]
    },
    {
     "name": "stdout",
     "output_type": "stream",
     "text": [
      "computing greedy matching.\n"
     ]
    },
    {
     "name": "stderr",
     "output_type": "stream",
     "text": [
      "100%|██████████| 32/32 [00:00<00:00, 36.80it/s]"
     ]
    },
    {
     "name": "stdout",
     "output_type": "stream",
     "text": [
      "done in 105.51 seconds, 18.95 sentences/sec\n",
      "BERTScore Precision: 0.8176\n",
      "BERTScore Recall:    0.8209\n",
      "BERTScore F1:        0.8191\n"
     ]
    },
    {
     "name": "stderr",
     "output_type": "stream",
     "text": [
      "\n"
     ]
    }
   ],
   "source": [
    "refs = test_data[\"highlights\"].tolist()\n",
    "preds = test_data[\"predicted_summary\"].tolist()\n",
    "\n",
    "\n",
    "P, R, F1 = score(cands=preds, refs=refs, lang=\"en\", verbose=True) \n",
    "\n",
    "print(f\"BERTScore Precision: {P.mean().item():.4f}\")\n",
    "print(f\"BERTScore Recall:    {R.mean().item():.4f}\")\n",
    "print(f\"BERTScore F1:        {F1.mean().item():.4f}\")\n"
   ]
  },
  {
   "cell_type": "code",
   "execution_count": null,
   "id": "a1865e3d",
   "metadata": {},
   "outputs": [
    {
     "name": "stdout",
     "output_type": "stream",
     "text": [
      "Average ROUGE-1 F1: 0.2685\n",
      "Average ROUGE-2 F1: 0.0849\n",
      "Average ROUGE-L F1: 0.1998\n"
     ]
    }
   ],
   "source": [
    "scorer = rouge_scorer.RougeScorer(['rouge1', 'rouge2', 'rougeL'], use_stemmer=True)\n",
    "\n",
    "rouge1_list = []\n",
    "rouge2_list = []\n",
    "rougeL_list = []\n",
    "\n",
    "for ref, pred in zip(test_data[\"highlights\"], test_data[\"predicted_summary\"]):\n",
    "    scores = scorer.score(ref, pred)\n",
    "    rouge1_list.append(scores['rouge1'].fmeasure)\n",
    "    rouge2_list.append(scores['rouge2'].fmeasure)\n",
    "    rougeL_list.append(scores['rougeL'].fmeasure)\n",
    "\n",
    "print(f\"Average ROUGE-1 F1: {sum(rouge1_list)/len(rouge1_list):.4f}\")\n",
    "print(f\"Average ROUGE-2 F1: {sum(rouge2_list)/len(rouge2_list):.4f}\")\n",
    "print(f\"Average ROUGE-L F1: {sum(rougeL_list)/len(rougeL_list):.4f}\")\n",
    "    "
   ]
  }
 ],
 "metadata": {
  "kernelspec": {
   "display_name": "tensorGPU",
   "language": "python",
   "name": "python3"
  },
  "language_info": {
   "codemirror_mode": {
    "name": "ipython",
    "version": 3
   },
   "file_extension": ".py",
   "mimetype": "text/x-python",
   "name": "python",
   "nbconvert_exporter": "python",
   "pygments_lexer": "ipython3",
   "version": "3.10.14"
  }
 },
 "nbformat": 4,
 "nbformat_minor": 5
}
